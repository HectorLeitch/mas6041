{
 "cells": [
  {
   "cell_type": "markdown",
   "metadata": {},
   "source": [
    "# Zero/One\n",
    "\n",
    "Run the source code:"
   ]
  },
  {
   "cell_type": "code",
   "execution_count": 77,
   "metadata": {},
   "outputs": [],
   "source": [
    "%run \"code\\zeroone.py\""
   ]
  },
  {
   "cell_type": "markdown",
   "metadata": {},
   "source": [
    "## Example 4.1\n",
    "\n",
    "The following code demonstrates the model with the small input, created using the `text_to_tensor()` and `space_pad()` functions. The `text` string input can be modified. The output of the model is a sequence $\\left\\{\\pmb{q}_t\\right\\}_{t=1}^T$ as described in chapter 4; if the sequence length is greater than 25 then the transpose is printed to keep the output to a sensible number of lines."
   ]
  },
  {
   "cell_type": "code",
   "execution_count": 158,
   "metadata": {},
   "outputs": [
    {
     "name": "stdout",
     "output_type": "stream",
     "text": [
      "[[[0. 0.]\n",
      "  [0. 0.]\n",
      "  [0. 0.]\n",
      "  [0. 0.]\n",
      "  [0. 0.]\n",
      "  [0. 0.]\n",
      "  [0. 0.]\n",
      "  [0. 0.]\n",
      "  [0. 0.]\n",
      "  [0. 0.]\n",
      "  [0. 0.]\n",
      "  [0. 0.]\n",
      "  [0. 0.]\n",
      "  [0. 0.]\n",
      "  [1. 0.]\n",
      "  [0. 0.]\n",
      "  [0. 0.]\n",
      "  [0. 0.]\n",
      "  [0. 0.]\n",
      "  [0. 0.]\n",
      "  [0. 0.]\n",
      "  [0. 0.]\n",
      "  [0. 1.]]]\n"
     ]
    }
   ],
   "source": [
    "text = 'test with zero and one'\n",
    "\n",
    "textt = text_to_tensor(space_pad(text))\n",
    "M = make_rnn_model()\n",
    "out = M.predict(textt, verbose=0)\n",
    "if out.shape[1] <= 25:\n",
    "    print(out)\n",
    "else:\n",
    "    print(out.reshape(out.shape[1],2).T)"
   ]
  },
  {
   "cell_type": "markdown",
   "metadata": {},
   "source": [
    "The code below shows the hidden state of the recurrent layer; best viewed for outputs from an input string of less than 25 characters."
   ]
  },
  {
   "cell_type": "code",
   "execution_count": 160,
   "metadata": {},
   "outputs": [
    {
     "name": "stdout",
     "output_type": "stream",
     "text": [
      "[[[0. 0. 0. 0. 0. 0. 0. 0. 0. 1.]\n",
      "  [0. 0. 0. 0. 0. 0. 0. 0. 0. 1.]\n",
      "  [0. 0. 0. 0. 0. 0. 0. 0. 0. 1.]\n",
      "  [0. 0. 0. 0. 0. 0. 0. 0. 0. 1.]\n",
      "  [0. 0. 0. 0. 0. 0. 0. 0. 0. 0.]\n",
      "  [0. 0. 0. 0. 0. 0. 0. 0. 0. 1.]\n",
      "  [0. 0. 0. 0. 0. 0. 0. 0. 0. 1.]\n",
      "  [0. 0. 0. 0. 0. 0. 0. 0. 0. 1.]\n",
      "  [0. 0. 0. 0. 0. 0. 0. 0. 0. 1.]\n",
      "  [0. 0. 0. 0. 0. 0. 0. 0. 0. 0.]\n",
      "  [1. 0. 0. 0. 0. 0. 0. 0. 0. 1.]\n",
      "  [0. 1. 0. 0. 0. 0. 0. 0. 0. 1.]\n",
      "  [0. 0. 1. 0. 0. 0. 0. 0. 0. 1.]\n",
      "  [0. 0. 0. 1. 0. 0. 0. 0. 0. 1.]\n",
      "  [0. 0. 0. 0. 0. 0. 0. 1. 0. 0.]\n",
      "  [0. 0. 0. 0. 0. 0. 0. 0. 0. 1.]\n",
      "  [0. 0. 0. 0. 0. 0. 0. 0. 0. 1.]\n",
      "  [0. 0. 0. 0. 0. 0. 0. 0. 0. 1.]\n",
      "  [0. 0. 0. 0. 0. 0. 0. 0. 0. 0.]\n",
      "  [0. 0. 0. 0. 1. 0. 0. 0. 0. 1.]\n",
      "  [0. 0. 0. 0. 0. 1. 0. 0. 0. 1.]\n",
      "  [0. 0. 0. 0. 0. 0. 1. 0. 0. 1.]\n",
      "  [0. 0. 0. 0. 0. 0. 0. 0. 1. 0.]]]\n"
     ]
    }
   ],
   "source": [
    "M_hidden = tf.keras.Model(inputs=M.input, outputs=M.layers[1].output)\n",
    "out = M_hidden.predict(textt, verbose=0)\n",
    "if out.shape[1] <= 25:\n",
    "    print(out)"
   ]
  },
  {
   "cell_type": "markdown",
   "metadata": {},
   "source": [
    "## Example 4.2\n",
    "\n",
    "The following code demonstrates the model with the full input, created using the `text_to_onehot()` and `space_pad()` functions. The `text` string input can be modified. The output of the model should be the same as Example 4.1 if the same input `text` is used."
   ]
  },
  {
   "cell_type": "code",
   "execution_count": 161,
   "metadata": {},
   "outputs": [
    {
     "name": "stdout",
     "output_type": "stream",
     "text": [
      "[[[0. 0.]\n",
      "  [0. 0.]\n",
      "  [0. 0.]\n",
      "  [0. 0.]\n",
      "  [0. 0.]\n",
      "  [0. 0.]\n",
      "  [0. 0.]\n",
      "  [0. 0.]\n",
      "  [0. 0.]\n",
      "  [0. 0.]\n",
      "  [0. 0.]\n",
      "  [0. 0.]\n",
      "  [0. 0.]\n",
      "  [0. 0.]\n",
      "  [1. 0.]\n",
      "  [0. 0.]\n",
      "  [0. 0.]\n",
      "  [0. 0.]\n",
      "  [0. 0.]\n",
      "  [0. 0.]\n",
      "  [0. 0.]\n",
      "  [0. 0.]\n",
      "  [0. 1.]]]\n"
     ]
    }
   ],
   "source": [
    "text = 'test with zero and one'\n",
    "\n",
    "textt = text_to_onehot(space_pad(text))\n",
    "Mf = make_full_rnn_model()\n",
    "out = Mf.predict(textt, verbose=0)\n",
    "if out.shape[1] <= 25:\n",
    "    print(out)\n",
    "else:\n",
    "    print(out.reshape(out.shape[1],2).T)"
   ]
  },
  {
   "cell_type": "markdown",
   "metadata": {},
   "source": [
    "## Figure code\n",
    "\n",
    "The following code produces the figures contained in this chapter."
   ]
  },
  {
   "cell_type": "code",
   "execution_count": 133,
   "metadata": {},
   "outputs": [
    {
     "data": {
      "image/png": "[encoded data removed]",
      "text/plain": [
       "<Figure size 640x480 with 1 Axes>"
      ]
     },
     "metadata": {},
     "output_type": "display_data"
    }
   ],
   "source": [
    "tf.random.set_seed(210138711)\n",
    " \n",
    "nodes = {'1':'Base',\n",
    "'2':'z',\n",
    "'3':'ze',\n",
    "'4':'zer',\n",
    "'5':'zero',\n",
    "'6':'Output \"zero\"',\n",
    "'7':'o',\n",
    "'8':'on',\n",
    "'9':'one',\n",
    "'10':'Output \"one\"'}\n",
    "\n",
    "edges = [('1', '2'),\n",
    "('2', '3'),\n",
    "('3', '4'),\n",
    "('4', '5'),\n",
    "('5', '6'),\n",
    "('1', '7'),\n",
    "('7', '8'),\n",
    "('8', '9'),\n",
    "('9', '10')]\n",
    "\n",
    "layers = {'1': 1,\n",
    "'2': 2,\n",
    "'3': 3,\n",
    "'4': 4,\n",
    "'5': 5,\n",
    "'6': 6,\n",
    "'7': 2,\n",
    "'8': 3,\n",
    "'9': 4,\n",
    "'10': 5}\n",
    "\n",
    "nx_graph = nx.DiGraph() # Made this a DiGraph (adds arrows to visual)\n",
    "#plt.figure(figsize=(8,8)) # Enlarged figure\n",
    "\n",
    "for key, value in nodes.items():\n",
    "    nx_graph.add_node(key, name=value, layer=layers[key])\n",
    "\n",
    "for edge in edges:\n",
    "    nx_graph.add_edge(*edge)\n",
    "\n",
    "def nudge(pos, x_shift, y_shift):\n",
    "    return {n:(x + x_shift, y + y_shift) for n,(x,y) in pos.items()}\n",
    "\n",
    "pos = nx.multipartite_layout(nx_graph, subset_key=\"layer\")\n",
    "pos_nodes = nudge(pos, 0, 0.025) \n",
    "\n",
    "nx.draw(nx_graph, pos=pos, with_labels=False)\n",
    "nx.draw_networkx_labels(nx_graph, labels=nodes, pos=pos_nodes)\n",
    "\n",
    "plt.show()"
   ]
  }
 ],
 "metadata": {
  "kernelspec": {
   "display_name": "Python 3",
   "language": "python",
   "name": "python3"
  },
  "language_info": {
   "codemirror_mode": {
    "name": "ipython",
    "version": 3
   },
   "file_extension": ".py",
   "mimetype": "text/x-python",
   "name": "python",
   "nbconvert_exporter": "python",
   "pygments_lexer": "ipython3",
   "version": "3.10.5"
  }
 },
 "nbformat": 4,
 "nbformat_minor": 2
}
