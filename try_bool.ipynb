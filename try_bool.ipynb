{
 "cells": [
  {
   "cell_type": "markdown",
   "metadata": {},
   "source": [
    "# Boolean\n",
    "\n",
    "Run the source code:"
   ]
  },
  {
   "cell_type": "code",
   "execution_count": 5,
   "metadata": {},
   "outputs": [],
   "source": [
    "%run \"code\\bool.py\""
   ]
  },
  {
   "cell_type": "markdown",
   "metadata": {},
   "source": [
    "## Example 2.1\n",
    "\n",
    "Modify `u` and `x` to create a Boolean function $\\mathbb{R}^2 \\rightarrow \\mathbb{R}$ defined by `u`, and evaluate it at `x`."
   ]
  },
  {
   "cell_type": "code",
   "execution_count": 6,
   "metadata": {},
   "outputs": [
    {
     "name": "stdout",
     "output_type": "stream",
     "text": [
      "[[0.]]\n"
     ]
    }
   ],
   "source": [
    "# Specify u in {0,1}^4 and x in {0,1}^2\n",
    "u = [0,1,1,0]\n",
    "x = [0,0]\n",
    "\n",
    "u = np.array(u)\n",
    "x = tf.convert_to_tensor(np.array(x).reshape(1,2))\n",
    "M = make_u_model(u=u)\n",
    "print(M.predict(x,verbose=0)) \n"
   ]
  },
  {
   "cell_type": "markdown",
   "metadata": {},
   "source": [
    "Show the weights for the first (ReLU) layer. Note that `tf.layers.Dense` uses the transpose of what we have described in the text."
   ]
  },
  {
   "cell_type": "code",
   "execution_count": 7,
   "metadata": {},
   "outputs": [
    {
     "name": "stdout",
     "output_type": "stream",
     "text": [
      "W = \n",
      " [[0. 1. 1.]\n",
      " [1. 0. 1.]]\n",
      "b = \n",
      " [ 0.  0. -1.]\n"
     ]
    }
   ],
   "source": [
    "print(f\"W = \\n {M.layers[1].get_weights()[0]}\")\n",
    "print(f\"b = \\n {M.layers[1].get_weights()[1]}\")"
   ]
  },
  {
   "cell_type": "markdown",
   "metadata": {},
   "source": [
    "Show the weights for the second layer. It should be clear that the weights are equal to $\\left(u_2 - u_0\\right)$, $\\left(u_1 - u_0\\right)$, and $\\left(u_3 - u_2 - u_1 + u_0\\right)$, and the bias is $u_0$."
   ]
  },
  {
   "cell_type": "code",
   "execution_count": 8,
   "metadata": {},
   "outputs": [
    {
     "name": "stdout",
     "output_type": "stream",
     "text": [
      "u = \n",
      " [0 1 1 0]\n",
      "W = \n",
      " [[ 1.]\n",
      " [ 1.]\n",
      " [-2.]]\n",
      "b = \n",
      " [0.]\n"
     ]
    }
   ],
   "source": [
    "print(f\"u = \\n {u}\")\n",
    "print(f\"W = \\n {M.layers[2].get_weights()[0]}\")\n",
    "print(f\"b = \\n {M.layers[2].get_weights()[1]}\")"
   ]
  },
  {
   "cell_type": "markdown",
   "metadata": {},
   "source": [
    "## Example 2.2\n",
    "\n",
    "Now experiment by building Boolean functions $\\mathbb{R}^n \\rightarrow \\mathbb{R}$. Modify `n` to change the dimension of the input domain. The code then builds the model using the generalization of example 2.1 for a random $u \\in \\left\\{0, 1\\right\\}^n$.\n",
    "\n",
    "The model summary shows the number of parameters in each layer, and the model model is evaluated on all elements of the input domain to verify that it returns the corresponding element of $u$ in every case."
   ]
  },
  {
   "cell_type": "code",
   "execution_count": 9,
   "metadata": {},
   "outputs": [
    {
     "name": "stdout",
     "output_type": "stream",
     "text": [
      "u = [0 0 1 1 0 0 1 0 0 0 1 0 0 0 0 1]\n",
      "Model: \"u_model\"\n",
      "_________________________________________________________________\n",
      " Layer (type)                Output Shape              Param #   \n",
      "=================================================================\n",
      " input_3 (InputLayer)        [(None, 4)]               0         \n",
      "                                                                 \n",
      " dense_4 (Dense)             (None, 15)                75        \n",
      "                                                                 \n"
     ]
    },
    {
     "name": "stdout",
     "output_type": "stream",
     "text": [
      " dense_5 (Dense)             (None, 1)                 16        \n",
      "                                                                 \n",
      "=================================================================\n",
      "Total params: 91\n",
      "Trainable params: 91\n",
      "Non-trainable params: 0\n",
      "_________________________________________________________________\n",
      "[loss, accuracy] = [0.0, 1.0]\n"
     ]
    }
   ],
   "source": [
    "# Specify an integer between 2 and 8 for practical run time\n",
    "n = 4\n",
    "\n",
    "k = 2**n\n",
    "u = 1 * (np.random.random(k) >= 0.5)\n",
    "print(f\"u = {u}\")\n",
    "M = make_u_model(u=u)\n",
    "x_all = np.array(list(itertools.product(*[[0,1]]*n)))\n",
    "M.summary()\n",
    "print(f\"[loss, accuracy] = {M.evaluate(x_all, u.reshape(k,1), verbose=0)}\")"
   ]
  },
  {
   "cell_type": "markdown",
   "metadata": {},
   "source": [
    "## Example 2.3\n",
    "\n",
    "We now create the model that builds and evaluates all Boolean functions $\\mathbb{R}^n \\rightarrow \\mathbb{R}$ given $n$. Modify `n` to be 2, 3, or 4; any greater value will require too many parameters to store in memory. The model summary and evaluation are the same as the previous example."
   ]
  },
  {
   "cell_type": "code",
   "execution_count": 7,
   "metadata": {},
   "outputs": [
    {
     "name": "stdout",
     "output_type": "stream",
     "text": [
      "Model: \"n_model\"\n",
      "_________________________________________________________________\n",
      " Layer (type)                Output Shape              Param #   \n",
      "=================================================================\n",
      " input_4 (InputLayer)        [(None, 4)]               0         \n",
      "                                                                 \n",
      " dense_6 (Dense)             (None, 15)                75        \n",
      "                                                                 \n",
      " dense_7 (Dense)             (None, 65536)             1048576   \n",
      "                                                                 \n",
      "=================================================================\n",
      "Total params: 1,048,651\n",
      "Trainable params: 1,048,651\n",
      "Non-trainable params: 0\n",
      "_________________________________________________________________\n",
      "1/1 [==============================] - 0s 207ms/step - loss: 0.0000e+00 - accuracy: 1.0000\n",
      "[loss, accuracy] = [0.0, 1.0]\n"
     ]
    }
   ],
   "source": [
    "# Specify n=2,3,4\n",
    "n = 4\n",
    "\n",
    "M = make_n_model(n=n)\n",
    "x_all = np.array(list(itertools.product(*[[0,1]]*n)))\n",
    "y_all = np.array(list(itertools.product(*[[0,1]]*(2**n)))).T\n",
    "M.summary()\n",
    "print(f\"[loss, accuracy] = {M.evaluate(x_all, y_all, verbose=0)}\")"
   ]
  }
 ],
 "metadata": {
  "kernelspec": {
   "display_name": "Python 3",
   "language": "python",
   "name": "python3"
  },
  "language_info": {
   "codemirror_mode": {
    "name": "ipython",
    "version": 3
   },
   "file_extension": ".py",
   "mimetype": "text/x-python",
   "name": "python",
   "nbconvert_exporter": "python",
   "pygments_lexer": "ipython3",
   "version": "3.10.5"
  }
 },
 "nbformat": 4,
 "nbformat_minor": 2
}
